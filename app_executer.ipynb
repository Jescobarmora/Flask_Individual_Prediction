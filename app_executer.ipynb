{
 "cells": [
  {
   "cell_type": "code",
   "execution_count": 2,
   "metadata": {},
   "outputs": [
    {
     "name": "stdout",
     "output_type": "stream",
     "text": [
      "HTTP 200 OK\n",
      "Content-Type: application/json\n",
      "\n",
      "{'Email': 'amandadean@gmail.com', 'Prediction': 502.9509090259444}\n"
     ]
    }
   ],
   "source": [
    "import requests\n",
    "import json\n",
    "\n",
    "# URL de la API\n",
    "url = 'http://127.0.0.1:8000/predict'\n",
    "\n",
    "# Datos de ejemplo (los reales los proporcionarás al momento de uso)\n",
    "data = {\n",
    "    \"Email\": \"amandadean@gmail.com\",\n",
    "    \"Address\": \"Munich\",\n",
    "    \"Dominio\": \"gmail\",\n",
    "    \"Tecnologia\": \"Smartphone\",\n",
    "    \"Avg_Session_Length\": 32.0637746203137,\n",
    "    \"Time_on_App\": 10.719149740628396,\n",
    "    \"Time_on_Website\": 37.71250863884946,\n",
    "    \"Length_of_Membership\": 3.004742535925674\n",
    "}\n",
    "\n",
    "# Hacer la solicitud POST\n",
    "headers = {\"Content-Type\": \"application/json\"}\n",
    "response = requests.post(url, data=json.dumps(data), headers=headers)\n",
    "\n",
    "# Verificar el código de estado y la respuesta\n",
    "if response.status_code == 200:\n",
    "    print(f\"HTTP {response.status_code} OK\\nContent-Type: application/json\\n\\n{response.json()}\")\n",
    "else:\n",
    "    print(\"Error en la solicitud:\", response.text)"
   ]
  }
 ],
 "metadata": {
  "kernelspec": {
   "display_name": "api_class",
   "language": "python",
   "name": "python3"
  },
  "language_info": {
   "codemirror_mode": {
    "name": "ipython",
    "version": 3
   },
   "file_extension": ".py",
   "mimetype": "text/x-python",
   "name": "python",
   "nbconvert_exporter": "python",
   "pygments_lexer": "ipython3",
   "version": "3.10.12"
  }
 },
 "nbformat": 4,
 "nbformat_minor": 2
}
